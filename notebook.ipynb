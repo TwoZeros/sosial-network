{
 "cells": [
  {
   "metadata": {
    "ExecuteTime": {
     "end_time": "2024-05-12T20:05:22.728064451Z",
     "start_time": "2024-05-12T20:05:21.908103144Z"
    }
   },
   "cell_type": "code",
   "source": "%use klaxon",
   "outputs": [],
   "execution_count": 1
  },
  {
   "metadata": {
    "ExecuteTime": {
     "end_time": "2024-05-12T20:05:22.847335619Z",
     "start_time": "2024-05-12T20:05:22.736312386Z"
    }
   },
   "cell_type": "code",
   "source": "import java.io.File",
   "outputs": [],
   "execution_count": 2
  },
  {
   "metadata": {
    "ExecuteTime": {
     "end_time": "2024-05-12T20:05:23.345541269Z",
     "start_time": "2024-05-12T20:05:22.854146889Z"
    }
   },
   "cell_type": "code",
   "source": "data class Skill(val id: String, val name: String)",
   "outputs": [],
   "execution_count": 3
  },
  {
   "metadata": {
    "ExecuteTime": {
     "end_time": "2024-05-12T20:05:23.582873589Z",
     "start_time": "2024-05-12T20:05:23.356247997Z"
    }
   },
   "cell_type": "code",
   "source": "data class Person(val id: String,var name: String, var skills: List<String>)",
   "outputs": [],
   "execution_count": 4
  },
  {
   "metadata": {
    "ExecuteTime": {
     "end_time": "2024-05-12T20:05:23.735377959Z",
     "start_time": "2024-05-12T20:05:23.588743072Z"
    }
   },
   "cell_type": "code",
   "source": "data class PersonRelation(val id: String, val friends:List<String>)",
   "outputs": [],
   "execution_count": 5
  },
  {
   "metadata": {
    "ExecuteTime": {
     "end_time": "2024-05-12T20:05:23.763546456Z",
     "start_time": "2024-05-12T20:05:23.749609257Z"
    }
   },
   "cell_type": "code",
   "source": "",
   "outputs": [],
   "execution_count": 6
  },
  {
   "metadata": {
    "ExecuteTime": {
     "end_time": "2024-05-12T20:05:24.001620292Z",
     "start_time": "2024-05-12T20:05:23.771591854Z"
    }
   },
   "cell_type": "code",
   "source": [
    "val peopleInfoFile = File(\"peopleInfo.json\").readText()\n",
    "peopleInfoFile"
   ],
   "outputs": [
    {
     "data": {
      "text/plain": [
       "[\n",
       "  {\n",
       "    \"id\": \"1\",\n",
       "    \"name\": \"Kirill\",\n",
       "    \"skills\": [\n",
       "      \"1\",\n",
       "      \"2\",\n",
       "      \"3\"\n",
       "    ]\n",
       "  },\n",
       "  {\n",
       "    \"id\": \"2\",\n",
       "    \"name\": \"Vasya\",\n",
       "    \"skills\": [\n",
       "      \"1\"\n",
       "    ]\n",
       "  },\n",
       "  {\n",
       "    \"id\": \"3\",\n",
       "    \"name\": \"Petya\",\n",
       "    \"skills\": [\n",
       "      \"1\"\n",
       "    ]\n",
       "  },\n",
       "  {\n",
       "    \"id\": \"3\",\n",
       "    \"name\": \"Kate\",\n",
       "    \"skills\": [\n",
       "      \"4\"\n",
       "    ]\n",
       "  },\n",
       "  {\n",
       "    \"id\": \"4\",\n",
       "    \"name\": \"John\",\n",
       "    \"skills\": [\"2\"]\n",
       "  }\n",
       "]\n",
       "\n"
      ]
     },
     "execution_count": 7,
     "metadata": {},
     "output_type": "execute_result"
    }
   ],
   "execution_count": 7
  },
  {
   "metadata": {
    "ExecuteTime": {
     "end_time": "2024-05-12T20:05:24.178821352Z",
     "start_time": "2024-05-12T20:05:24.007588788Z"
    }
   },
   "cell_type": "code",
   "source": [
    "val skillsInfo = File(\"skills.json\").readText()\n",
    "skillsInfo"
   ],
   "outputs": [
    {
     "data": {
      "text/plain": [
       "[\n",
       "  {\n",
       "    \"id\": \"1\",\n",
       "    \"name\": \"java\"\n",
       "  },\n",
       "  {\n",
       "    \"id\": \"2\",\n",
       "    \"name\": \"kotlin\"\n",
       "  },\n",
       "  {\n",
       "    \"id\": \"3\",\n",
       "    \"name\": \"business analyst\"\n",
       "  },\n",
       "  {\n",
       "    \"id\": \"4\",\n",
       "    \"name\": \"system analyst\"\n",
       "  }\n",
       "]"
      ]
     },
     "execution_count": 8,
     "metadata": {},
     "output_type": "execute_result"
    }
   ],
   "execution_count": 8
  },
  {
   "metadata": {
    "ExecuteTime": {
     "end_time": "2024-05-12T20:05:24.376363162Z",
     "start_time": "2024-05-12T20:05:24.191569447Z"
    }
   },
   "cell_type": "code",
   "source": [
    "val peopleRelationText = File(\"peopleRelation.json\").readText()\n",
    "peopleRelation"
   ],
   "outputs": [
    {
     "name": "stderr",
     "output_type": "stream",
     "text": [
      "Line_8.jupyter.kts (2:1 - 15) Unresolved reference: peopleRelation"
     ]
    }
   ],
   "execution_count": 9
  },
  {
   "metadata": {},
   "cell_type": "markdown",
   "source": ""
  },
  {
   "metadata": {
    "ExecuteTime": {
     "end_time": "2024-05-12T20:05:24.575214273Z",
     "start_time": "2024-05-12T20:05:24.391168392Z"
    }
   },
   "cell_type": "code",
   "source": [
    "val relation = Klaxon().parseArray<PersonRelation>(peopleRelationText)!!.map{ it.id to it.friends}.toMap()\n",
    "relation"
   ],
   "outputs": [
    {
     "name": "stderr",
     "output_type": "stream",
     "text": [
      "Line_9.jupyter.kts (1:52 - 70) Unresolved reference: peopleRelationText\n",
      "Line_9.jupyter.kts (1:79 - 81) Unresolved reference: it\n",
      "Line_9.jupyter.kts (1:88 - 90) Unresolved reference: it"
     ]
    }
   ],
   "execution_count": 10
  },
  {
   "metadata": {
    "ExecuteTime": {
     "end_time": "2024-05-12T20:05:25.676790972Z",
     "start_time": "2024-05-12T20:05:24.589508489Z"
    }
   },
   "cell_type": "code",
   "source": [
    "val personInfo = Klaxon().parseArray<Person>(peopleInfoFile)!!.map{it.id to it}.toMap()\n",
    "personInfo"
   ],
   "outputs": [
    {
     "data": {
      "text/plain": [
       "{1=Person(id=1, name=Kirill, skills=[1, 2, 3]), 2=Person(id=2, name=Vasya, skills=[1]), 3=Person(id=3, name=Kate, skills=[4]), 4=Person(id=4, name=John, skills=[2])}"
      ]
     },
     "execution_count": 11,
     "metadata": {},
     "output_type": "execute_result"
    }
   ],
   "execution_count": 11
  },
  {
   "metadata": {
    "ExecuteTime": {
     "end_time": "2024-05-12T20:05:25.947068465Z",
     "start_time": "2024-05-12T20:05:25.691551296Z"
    }
   },
   "cell_type": "code",
   "source": [
    "val skill = Klaxon().parseArray<Skill>(skillsInfo)!!.map{it.id to it.name}.toMap()\n",
    "skill"
   ],
   "outputs": [
    {
     "data": {
      "text/plain": [
       "{1=java, 2=kotlin, 3=business analyst, 4=system analyst}"
      ]
     },
     "execution_count": 12,
     "metadata": {},
     "output_type": "execute_result"
    }
   ],
   "execution_count": 12
  },
  {
   "metadata": {
    "ExecuteTime": {
     "end_time": "2024-05-12T20:05:26.201380341Z",
     "start_time": "2024-05-12T20:05:25.952671198Z"
    }
   },
   "cell_type": "code",
   "source": "fun getSkillIdByName(name: String,skillMap: Map<String,String>) = skillMap.filterValues { it == name }.firstNotNullOf { it.key }",
   "outputs": [],
   "execution_count": 13
  },
  {
   "metadata": {},
   "cell_type": "markdown",
   "source": ""
  },
  {
   "metadata": {
    "ExecuteTime": {
     "end_time": "2024-05-12T20:05:26.318756804Z",
     "start_time": "2024-05-12T20:05:26.205248038Z"
    }
   },
   "cell_type": "code",
   "source": "getSkillIdByName(\"java\",skill)",
   "outputs": [
    {
     "data": {
      "text/plain": [
       "1"
      ]
     },
     "execution_count": 14,
     "metadata": {},
     "output_type": "execute_result"
    }
   ],
   "execution_count": 14
  },
  {
   "metadata": {
    "ExecuteTime": {
     "end_time": "2024-05-12T20:05:26.524195819Z",
     "start_time": "2024-05-12T20:05:26.322266691Z"
    }
   },
   "cell_type": "code",
   "source": [
    "val searchQueue = ArrayDeque<String>()\n",
    "searchQueue.addAll(relation.get(\"1\")?: emptyList()) "
   ],
   "outputs": [
    {
     "name": "stderr",
     "output_type": "stream",
     "text": [
      "Line_14.jupyter.kts (2:20 - 28) Unresolved reference: relation"
     ]
    }
   ],
   "execution_count": 15
  },
  {
   "metadata": {
    "ExecuteTime": {
     "end_time": "2024-05-12T20:05:26.558704056Z",
     "start_time": "2024-05-12T20:05:26.529482315Z"
    }
   },
   "cell_type": "code",
   "source": [
    "fun String.hasSkill(): Boolean {\n",
    "    this.\n",
    "}"
   ],
   "outputs": [
    {
     "name": "stderr",
     "output_type": "stream",
     "text": [
      "Line_15.jupyter.kts (2:10 - 10) Expecting an element"
     ]
    }
   ],
   "execution_count": 16
  },
  {
   "metadata": {
    "ExecuteTime": {
     "end_time": "2024-05-12T20:05:26.624401296Z",
     "start_time": "2024-05-12T20:05:26.563948753Z"
    }
   },
   "cell_type": "code",
   "source": [
    "fun searchPersonBySkill(skill: String, searchQueue:ArrayDeque<String>) : String {\n",
    "    val person = searchQueue.removeFirst()\n",
    "    if(person.hasSkill(skill)) {\n",
    "        return person\n",
    "    }\n",
    "}"
   ],
   "outputs": [
    {
     "name": "stderr",
     "output_type": "stream",
     "text": [
      "Line_16.jupyter.kts (3:15 - 23) Unresolved reference: hasSkill\n",
      "Line_16.jupyter.kts (6:1 - 2) A 'return' expression required in a function with a block body ('{...}')"
     ]
    }
   ],
   "execution_count": 17
  }
 ],
 "metadata": {
  "kernelspec": {
   "display_name": "Kotlin",
   "language": "kotlin",
   "name": "kotlin"
  },
  "language_info": {
   "name": "kotlin",
   "version": "1.9.23",
   "mimetype": "text/x-kotlin",
   "file_extension": ".kt",
   "pygments_lexer": "kotlin",
   "codemirror_mode": "text/x-kotlin",
   "nbconvert_exporter": ""
  }
 },
 "nbformat": 4,
 "nbformat_minor": 0
}
